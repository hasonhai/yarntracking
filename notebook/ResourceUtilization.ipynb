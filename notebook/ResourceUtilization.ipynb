{
 "cells": [
  {
   "cell_type": "code",
   "execution_count": 4,
   "metadata": {
    "collapsed": true
   },
   "outputs": [],
   "source": [
    "# These are all the modules we'll be using later. Make sure you can import them\n",
    "from __future__ import print_function\n",
    "import matplotlib.pyplot as plt\n",
    "import numpy as np\n",
    "import os\n",
    "import sys\n",
    "import tarfile\n",
    "import json\n",
    "from six.moves.urllib.request import urlretrieve"
   ]
  },
  {
   "cell_type": "code",
   "execution_count": 28,
   "metadata": {
    "collapsed": false
   },
   "outputs": [
    {
     "name": "stdout",
     "output_type": "stream",
     "text": [
      "Found and verified clustersnapshot24022016.tar.gz\n"
     ]
    }
   ],
   "source": [
    "url = 'http://orange.com/wgmn4901/data/'\n",
    "\n",
    "def maybe_download(filename, expected_bytes, force=False):\n",
    "  \"\"\"Download a file if not present, and make sure it's the right size.\"\"\"\n",
    "  if force or not os.path.exists(filename):\n",
    "    filename, _ = urlretrieve(url + filename, filename) # may not work as expected\n",
    "  statinfo = os.stat(filename)\n",
    "  if statinfo.st_size == expected_bytes:\n",
    "    print('Found and verified', filename)\n",
    "  else:\n",
    "    raise Exception(\n",
    "      'Failed to verify ' + filename + '. Can you get to it with a browser?')\n",
    "  return filename\n",
    "\n",
    "clustersnapshot = maybe_download('clustersnapshot24022016.tar.gz', 249468)"
   ]
  },
  {
   "cell_type": "code",
   "execution_count": 37,
   "metadata": {
    "collapsed": false
   },
   "outputs": [
    {
     "name": "stdout",
     "output_type": "stream",
     "text": [
      "clustersnapshot24022016 already present - Skipping extraction of clustersnapshot24022016.tar.gz.\n",
      "Found the following application profile in clustersnapshot24022016.tar.gz:\n",
      "  clustersnapshot24022016/application_1456319042576_0003_json\n",
      "  clustersnapshot24022016/application_1456319042576_0004_json\n",
      "  clustersnapshot24022016/application_1456319042576_0005_json\n",
      "  clustersnapshot24022016/application_1456319042576_0006_json\n",
      "  clustersnapshot24022016/application_1456319042576_0007_json\n"
     ]
    }
   ],
   "source": [
    "def maybe_extract(filename,force=False):\n",
    "  root = os.path.splitext(os.path.splitext(filename)[0])[0]  # remove .tar.gz\n",
    "  if os.path.isdir(root) and not force:\n",
    "    # You may override by setting force=True.\n",
    "    print('%s already present - Skipping extraction of %s.' % (root, filename))\n",
    "  else:\n",
    "    print('Extracting data for %s. This may take a while. Please wait.' % root)\n",
    "    tar = tarfile.open(filename)\n",
    "    sys.stdout.flush()\n",
    "    tar.extractall()\n",
    "    tar.close()\n",
    "  data_folders = [\n",
    "    os.path.join(root, d) for d in sorted(os.listdir(root))\n",
    "    if os.path.isdir(os.path.join(root, d))]\n",
    "  print('Found the following application profile in %s:' % filename)\n",
    "  for folder in data_folders:\n",
    "    print ('  %s' % folder)\n",
    "  return data_folders\n",
    "  \n",
    "clustersnapshot_folders = maybe_extract(clustersnapshot)"
   ]
  },
  {
   "cell_type": "code",
   "execution_count": 246,
   "metadata": {
    "collapsed": false
   },
   "outputs": [
    {
     "name": "stdout",
     "output_type": "stream",
     "text": [
      "Snapshot start time: 1456334801869\n",
      "Snapshot end time: 1456335271858\n",
      "Snapshot duration: 469989 ms (or ~469 s or ~7 m)\n"
     ]
    }
   ],
   "source": [
    "import pandas as pd #this is how I usually import pandas\n",
    "\n",
    "def load_application(folder):\n",
    "  \"\"\"Load the container data for each application.\"\"\"\n",
    "  container_index = 0\n",
    "  container_name_list = []\n",
    "  container_starttime_list = []\n",
    "  container_endtime_list = []\n",
    "  container_task_list = []\n",
    "  container_node_list = []\n",
    "  application_starttime = 100000000000000 # really big number\n",
    "  application_endtime = 0\n",
    "  for container in os.listdir(folder):\n",
    "    container_file = os.path.join(folder, container)\n",
    "    try:\n",
    "      with open(container_file) as data_file:    \n",
    "        data = json.load(data_file)\n",
    "        container_name = data[\"container_id\"]\n",
    "        container_starttime = data[\"container_starttime\"]\n",
    "        if container_starttime < application_starttime:\n",
    "          application_starttime = container_starttime        \n",
    "        container_endtime = data[\"container_endtime\"]\n",
    "        if container_endtime > application_endtime:\n",
    "          application_endtime = container_endtime\n",
    "        \"\"\"gather info for container\"\"\"\n",
    "        container_task = data[\"container_tasks\"][0][\"task_type\"] #First task only\n",
    "        if not data[\"nodeInfo\"]:\n",
    "            container_node = \"null\"\n",
    "        else:\n",
    "            container_node = data[\"nodeInfo\"][\"id\"]\n",
    "        \"\"\"make list to create dataframe\"\"\"\n",
    "        container_name_list.insert(container_index,container_name)\n",
    "        container_starttime_list.insert(container_index,container_starttime)\n",
    "        container_endtime_list.insert(container_index,container_endtime)\n",
    "        container_task_list.insert(container_index,container_task)\n",
    "        container_node_list.insert(container_index,container_node)\n",
    "      if not container_name:\n",
    "        raise Exception('Unexpected container name')\n",
    "      if container_starttime == 0:\n",
    "        raise Exception('Unexpected container start time')\n",
    "      if container_endtime == 0:\n",
    "        raise Exception('Unexpected container end time')\n",
    "      container_index += 1\n",
    "    except IOError as e:\n",
    "      print('Could not read:', container_file, ':', e)\n",
    "  DataSet = list(zip(container_starttime_list,container_endtime_list,container_task_list,container_node_list))\n",
    "  DataFrame = pd.DataFrame(data = DataSet, index=container_name_list, columns=[ 'start', 'end', 'task', 'node'])\n",
    "  return DataFrame, application_starttime, application_endtime\n",
    "\n",
    "def load_snapshot(snapshot_folders):\n",
    "  snapshot_starttime = 100000000000000 # really big number\n",
    "  snapshot_endtime = 0\n",
    "  snapshot_dataframe = pd.DataFrame()\n",
    "  for application_folder in snapshot_folders: \n",
    "    dataframe, application_starttime, application_endtime = load_application(application_folder)\n",
    "    if application_starttime < snapshot_starttime:\n",
    "      snapshot_starttime = application_starttime\n",
    "    if application_endtime > snapshot_endtime:\n",
    "      snapshot_endtime = application_endtime\n",
    "    if snapshot_dataframe.empty:\n",
    "      snapshot_dataframe = dataframe\n",
    "    else:\n",
    "      snapshot_dataframe = snapshot_dataframe.append(dataframe)\n",
    "  return snapshot_dataframe, snapshot_starttime, snapshot_endtime\n",
    "\n",
    "snapshot_dataframe,snapshot_starttime,snapshot_endtime = load_snapshot(clustersnapshot_folders)\n",
    "print('Snapshot start time: %s' % snapshot_starttime)\n",
    "print('Snapshot end time: %s' % snapshot_endtime)\n",
    "snapshot_duration = snapshot_endtime-snapshot_starttime\n",
    "print('Snapshot duration: %s ms (or ~%s s or ~%s m)' % (snapshot_duration,snapshot_duration/1000,snapshot_duration/60000))"
   ]
  },
  {
   "cell_type": "code",
   "execution_count": 247,
   "metadata": {
    "collapsed": false,
    "scrolled": false
   },
   "outputs": [
    {
     "name": "stdout",
     "output_type": "stream",
     "text": [
      "App application_1456319042576_0007_json is selected for this example\n"
     ]
    },
    {
     "data": {
      "image/png": "[encoded data removed]",
      "text/plain": [
       "<matplotlib.figure.Figure at 0x7fb6fc890750>"
      ]
     },
     "metadata": {},
     "output_type": "display_data"
    }
   ],
   "source": [
    "# General syntax to import a library but no functions: \n",
    "##import (library) as (give the library a nickname/alias)\n",
    "import matplotlib.pyplot as plt\n",
    "import matplotlib #only needed to determine Matplotlib version number\n",
    "from random import randint\n",
    "import pylab\n",
    "\n",
    "# Enable inline plotting\n",
    "%matplotlib inline\n",
    "pylab.rcParams['figure.figsize'] = (15.0, 8.0)\n",
    "\n",
    "random_application = clustersnapshot_folders[randint(0,len(clustersnapshot_folders)-1)]\n",
    "print(\"App %s is selected for this example\" % random_application.split('/')[1])\n",
    "\n",
    "DataFrame, application_starttime, application_endtime = load_application(random_application)\n",
    "DataFrameSorted = DataFrame.sort(columns=\"start\")\n",
    "\n",
    "value = 1\n",
    "x = np.linspace(0,snapshot_duration/1000-1,snapshot_duration/1000)\n",
    "\n",
    "for index in DataFrameSorted.index:\n",
    "  starttime_rescaled = DataFrameSorted.loc[index,\"start\"]/1000 - snapshot_starttime/1000\n",
    "  endtime_rescaled = DataFrameSorted.loc[index,\"end\"]/1000 - snapshot_starttime/1000\n",
    "  container_data = np.linspace(0,0,snapshot_duration/1000)\n",
    "  container_data[starttime_rescaled:endtime_rescaled] = value\n",
    "  if DataFrameSorted.loc[index,\"task\"] == \"MAP\":\n",
    "    plt.plot(x,container_data,\"ro\")\n",
    "  elif DataFrameSorted.loc[index,\"task\"] == \"REDUCE\":\n",
    "    plt.plot(x,container_data,\"bo\")\n",
    "  elif DataFrameSorted.loc[index,\"task\"] == \"AM\":\n",
    "    plt.plot(x,container_data,\"yo\")\n",
    "  else:\n",
    "    print(\"not applicable for %s\" % index)\n",
    "  value = value + 1\n"
   ]
  },
  {
   "cell_type": "code",
   "execution_count": 250,
   "metadata": {
    "collapsed": false
   },
   "outputs": [
    {
     "name": "stdout",
     "output_type": "stream",
     "text": [
      "List of containers with no information on node ID:\n"
     ]
    },
    {
     "data": {
      "text/plain": [
       "node\n",
       "null               55\n",
       "svr04.spo:45454     3\n",
       "svr05.spo:45454    16\n",
       "svr06.spo:45454    29\n",
       "svr07.spo:45454    31\n",
       "svr08.spo:45454    16\n",
       "svr09.spo:45454    25\n",
       "svr10.spo:45454    33\n",
       "svr11.spo:45454    15\n",
       "svr12.spo:45454    13\n",
       "svr13.spo:45454    38\n",
       "svr14.spo:45454    18\n",
       "svr15.spo:45454    31\n",
       "Name: task, dtype: int64"
      ]
     },
     "execution_count": 250,
     "metadata": {},
     "output_type": "execute_result"
    }
   ],
   "source": [
    "SnapshotDataFrame = snapshot_dataframe.sort(columns=\"node\")\n",
    "print('List of containers with no information on node ID:')\n",
    "SnapshotDataFrame.groupby('node').count().task"
   ]
  },
  {
   "cell_type": "code",
   "execution_count": 280,
   "metadata": {
    "collapsed": false,
    "scrolled": false
   },
   "outputs": [
    {
     "data": {
      "image/png": "[encoded data removed]",
      "text/plain": [
       "<matplotlib.figure.Figure at 0x7fb6fc4e8810>"
      ]
     },
     "metadata": {},
     "output_type": "display_data"
    }
   ],
   "source": [
    "##### pylab.rcParams['figure.figsize'] = (15.0, 8.0)\n",
    "\n",
    "snapshot_dataframe,snapshot_starttime,snapshot_endtime = load_snapshot(clustersnapshot_folders)\n",
    "snapshot_duration = snapshot_endtime - snapshot_starttime\n",
    "SnapshotDFSorted = snapshot_dataframe.sort(columns=\"start\")\n",
    "#print(DataFrameSorted)\n",
    "\n",
    "# Initialize slot for drawing\n",
    "slot = {}\n",
    "for node in snapshot_dataframe.groupby('node').count().task.index:\n",
    "  slot[node] = 1\n",
    "\n",
    "slot_max = 6\n",
    "\n",
    "\n",
    "for index in SnapshotDFSorted.index:\n",
    "  if slot[SnapshotDFSorted.loc[index,\"node\"]] >= slot_max:\n",
    "    slot[SnapshotDFSorted.loc[index,\"node\"]] = 1 #reset slot\n",
    "  starttime_rescaled = SnapshotDFSorted.loc[index,\"start\"]/1000 - snapshot_starttime/1000\n",
    "  endtime_rescaled = SnapshotDFSorted.loc[index,\"end\"]/1000 - snapshot_starttime/1000\n",
    "  task_duration = endtime_rescaled - starttime_rescaled\n",
    "  if SnapshotDFSorted.loc[index,\"node\"] == \"null\":\n",
    "    current_slot = slot[SnapshotDFSorted.loc[index,\"node\"]]\n",
    "  else:\n",
    "    current_slot = (int(SnapshotDFSorted.loc[index,\"node\"][3:5]) * slot_max) + slot[SnapshotDFSorted.loc[index,\"node\"]]\n",
    "    #print(str(int(SnapshotDFSorted.loc[index,\"node\"][3:5])))\n",
    "  x = np.linspace(starttime_rescaled,endtime_rescaled-1,task_duration)\n",
    "  container_data = np.linspace(current_slot,current_slot,task_duration)\n",
    "  if SnapshotDFSorted.loc[index,\"task\"] == \"MAP\":\n",
    "    plt.plot(x,container_data,\"ro\")\n",
    "  elif SnapshotDFSorted.loc[index,\"task\"] == \"REDUCE\":\n",
    "    plt.plot(x,container_data,\"bo\")\n",
    "  elif SnapshotDFSorted.loc[index,\"task\"] == \"AM\":\n",
    "    plt.plot(x,container_data,\"yo\")\n",
    "  else:\n",
    "    print(\"not applicable for %s\" % index)\n",
    "  slot[SnapshotDFSorted.loc[index,\"node\"]] = slot[SnapshotDFSorted.loc[index,\"node\"]] + 1\n",
    "\n",
    "# draw line separate node:\n",
    "x = np.linspace(0,snapshot_duration/1000-1,snapshot_duration/1000)\n",
    "for line in np.linspace(1,len(slot)+3,len(slot)+3): # 4 locations for null\n",
    "  y_value = line * slot_max\n",
    "  y = np.linspace(y_value,y_value,snapshot_duration/1000)\n",
    "  plt.plot(x,y,'-b')"
   ]
  },
  {
   "cell_type": "code",
   "execution_count": null,
   "metadata": {
    "collapsed": true
   },
   "outputs": [],
   "source": [
    "def check_profile_quality(folder):\n",
    "  \"\"\"Load the container data for each application.\"\"\"\n",
    "  container_index = 0\n",
    "  container_name_list = []\n",
    "  container_starttime_list = []\n",
    "  container_endtime_list = []\n",
    "  container_task_list = []\n",
    "  application_starttime = 100000000000000 # really big number\n",
    "  application_endtime = 0\n",
    "  for container in os.listdir(folder):\n",
    "    container_file = os.path.join(folder, container)\n",
    "    try:\n",
    "      with open(container_file) as data_file:    \n",
    "        data = json.load(data_file)\n",
    "        container_name = data[\"container_id\"]\n",
    "        container_starttime = data[\"container_starttime\"]\n",
    "        if container_starttime < application_starttime:\n",
    "          application_starttime = container_starttime        \n",
    "        container_endtime = data[\"container_endtime\"]\n",
    "        if container_endtime > application_endtime:\n",
    "          application_endtime = container_endtime\n",
    "        \"\"\"gather info for container\"\"\"\n",
    "        container_task = data[\"container_tasks\"][0][\"task_type\"] #First task only\n",
    "        \"\"\"make list to create dataframe\"\"\"\n",
    "        container_name_list.insert(container_index,container_name)\n",
    "        container_starttime_list.insert(container_index,container_starttime)\n",
    "        container_endtime_list.insert(container_index,container_endtime)\n",
    "        container_task_list.insert(container_index,container_task)\n",
    "      if not container_name:\n",
    "        raise Exception('Unexpected container name')\n",
    "      if container_starttime == 0:\n",
    "        raise Exception('Unexpected container start time')\n",
    "      if container_endtime == 0:\n",
    "        raise Exception('Unexpected container end time')\n",
    "      container_index += 1\n",
    "    except IOError as e:\n",
    "      print('Could not read:', container_file, ':', e)\n",
    "  DataSet = list(zip(container_name_list,container_starttime_list,container_endtime_list,container_task_list))\n",
    "  DataFrame = pd.DataFrame(data = DataSet, columns=['id', 'start', 'end', 'task'])\n",
    "  return DataFrame, application_starttime, application_endtime\n",
    "\n",
    "def load_snapshot(snapshot_folders):\n",
    "  snapshot_starttime = 100000000000000 # really big number\n",
    "  snapshot_endtime = 0\n",
    "  for applicaiton_folder in snapshot_folders: \n",
    "    _ ,application_starttime, application_endtime = load_application(applicaiton_folder)\n",
    "    if application_starttime < snapshot_starttime:\n",
    "      snapshot_starttime = application_starttime\n",
    "    if application_endtime > snapshot_endtime:\n",
    "      snapshot_endtime = application_endtime\n",
    "  return snapshot_starttime, snapshot_endtime\n",
    "\n",
    "snapshot_starttime,snapshot_endtime = load_snapshot(clustersnapshot_folders)\n",
    "print('Snapshot start time: %s' % snapshot_starttime)\n",
    "print('Snapshot end time: %s' % snapshot_endtime)\n",
    "snapshot_duration = snapshot_endtime-snapshot_starttime\n",
    "print('Snapshot duration: %s ms (or ~%s s or ~%s m)' % (snapshot_duration,snapshot_duration/1000,snapshot_duration/60000))\n",
    "\n",
    "print('Percentage CPU records during task lifetime: %f' % CPUrecords/(application_endtime-application_starttime))\n",
    "print('Percentage Disk records during task lifetime: %f' % CPUrecords/(application_endtime-application_starttime))\n",
    "print('Percentage Memory records during task lifetime: %f' % CPUrecords/(application_endtime-application_starttime))\n",
    "print('Percentage Node_info records during task lifetime: %f' % CPUrecords/(application_endtime-application_starttime))"
   ]
  },
  {
   "cell_type": "code",
   "execution_count": null,
   "metadata": {
    "collapsed": true
   },
   "outputs": [],
   "source": []
  }
 ],
 "metadata": {
  "kernelspec": {
   "display_name": "Python 2",
   "language": "python",
   "name": "python2"
  },
  "language_info": {
   "codemirror_mode": {
    "name": "ipython",
    "version": 2
   },
   "file_extension": ".py",
   "mimetype": "text/x-python",
   "name": "python",
   "nbconvert_exporter": "python",
   "pygments_lexer": "ipython2",
   "version": "2.7.6"
  }
 },
 "nbformat": 4,
 "nbformat_minor": 0
}
